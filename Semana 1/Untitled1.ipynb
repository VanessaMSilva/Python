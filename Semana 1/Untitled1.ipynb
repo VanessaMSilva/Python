{
 "cells": [
  {
   "cell_type": "markdown",
   "id": "8df3d80b",
   "metadata": {},
   "source": [
    "# Entrada e saida de dados"
   ]
  },
  {
   "cell_type": "code",
   "execution_count": 78,
   "id": "f9da5866",
   "metadata": {},
   "outputs": [
    {
     "name": "stdout",
     "output_type": "stream",
     "text": [
      "dia: 20\n",
      "mes: maio\n",
      "ano: 2023\n",
      "x: 1\n"
     ]
    }
   ],
   "source": [
    "dia = int(input(\"dia: \"))\n",
    "mes = str(input('mes: '))\n",
    "ano = int(input('ano: '))\n",
    "x = bool(input('x: '))"
   ]
  },
  {
   "cell_type": "code",
   "execution_count": 79,
   "id": "d801b925",
   "metadata": {},
   "outputs": [
    {
     "data": {
      "text/plain": [
       "(20, 'maio', 2023, True)"
      ]
     },
     "execution_count": 79,
     "metadata": {},
     "output_type": "execute_result"
    }
   ],
   "source": [
    "dia,mes,ano,x"
   ]
  },
  {
   "cell_type": "code",
   "execution_count": 81,
   "id": "34f0f065",
   "metadata": {},
   "outputs": [
    {
     "name": "stdout",
     "output_type": "stream",
     "text": [
      "Hoje é dia:  20\n",
      "20 de maio de 2023\n"
     ]
    }
   ],
   "source": [
    "print('Hoje é dia: ', dia)\n",
    "print('{} de {} de {}'.format(dia,mes,ano))"
   ]
  },
  {
   "cell_type": "markdown",
   "id": "653ecf59",
   "metadata": {},
   "source": [
    "# PYTHON FUNCTIONS"
   ]
  },
  {
   "cell_type": "code",
   "execution_count": 5,
   "id": "920a2215",
   "metadata": {},
   "outputs": [
    {
     "data": {
      "text/plain": [
       "3"
      ]
     },
     "execution_count": 5,
     "metadata": {},
     "output_type": "execute_result"
    }
   ],
   "source": [
    "x = 1\n",
    "y = 2\n",
    "x+y"
   ]
  },
  {
   "cell_type": "code",
   "execution_count": 6,
   "id": "256f0c47",
   "metadata": {},
   "outputs": [
    {
     "data": {
      "text/plain": [
       "1"
      ]
     },
     "execution_count": 6,
     "metadata": {},
     "output_type": "execute_result"
    }
   ],
   "source": [
    "x"
   ]
  },
  {
   "cell_type": "code",
   "execution_count": 19,
   "id": "52d30d1c",
   "metadata": {},
   "outputs": [
    {
     "data": {
      "text/plain": [
       "3"
      ]
     },
     "execution_count": 19,
     "metadata": {},
     "output_type": "execute_result"
    }
   ],
   "source": [
    "def add_numbers(x,y):\n",
    "    return x+y\n",
    "add_numbers(1,2)"
   ]
  },
  {
   "cell_type": "code",
   "execution_count": 6,
   "id": "eadcccec",
   "metadata": {},
   "outputs": [
    {
     "name": "stdout",
     "output_type": "stream",
     "text": [
      "3\n",
      "12\n"
     ]
    }
   ],
   "source": [
    "def add_numbers(x,y,z=None):\n",
    "    if(z == None):\n",
    "        return x+y\n",
    "    return x+y+z\n",
    "print(add_numbers(1,2))\n",
    "print(add_numbers(1,2,9))"
   ]
  },
  {
   "cell_type": "code",
   "execution_count": 18,
   "id": "4bea27aa",
   "metadata": {},
   "outputs": [
    {
     "data": {
      "text/plain": [
       "3"
      ]
     },
     "execution_count": 18,
     "metadata": {},
     "output_type": "execute_result"
    }
   ],
   "source": [
    "def do_math(a, b, kind= 'noadd'):\n",
    "  if(kind=='add'):\n",
    "    return a+b\n",
    "  else:\n",
    "    return a-b\n",
    "\n",
    "do_math(1, 2,'add')"
   ]
  },
  {
   "cell_type": "markdown",
   "id": "e54f21a3",
   "metadata": {},
   "source": [
    "Tipos e sequencias"
   ]
  },
  {
   "cell_type": "code",
   "execution_count": 1,
   "id": "67ab56ff",
   "metadata": {},
   "outputs": [
    {
     "data": {
      "text/plain": [
       "str"
      ]
     },
     "execution_count": 1,
     "metadata": {},
     "output_type": "execute_result"
    }
   ],
   "source": [
    "type('Isto é uma string')"
   ]
  },
  {
   "cell_type": "code",
   "execution_count": 2,
   "id": "2bb77eff",
   "metadata": {},
   "outputs": [
    {
     "data": {
      "text/plain": [
       "NoneType"
      ]
     },
     "execution_count": 2,
     "metadata": {},
     "output_type": "execute_result"
    }
   ],
   "source": [
    "type(None)"
   ]
  },
  {
   "cell_type": "code",
   "execution_count": 3,
   "id": "2cce76a8",
   "metadata": {},
   "outputs": [
    {
     "data": {
      "text/plain": [
       "float"
      ]
     },
     "execution_count": 3,
     "metadata": {},
     "output_type": "execute_result"
    }
   ],
   "source": [
    "type(1.0)"
   ]
  },
  {
   "cell_type": "code",
   "execution_count": 4,
   "id": "f63afaa4",
   "metadata": {},
   "outputs": [
    {
     "data": {
      "text/plain": [
       "int"
      ]
     },
     "execution_count": 4,
     "metadata": {},
     "output_type": "execute_result"
    }
   ],
   "source": [
    "type(1)"
   ]
  },
  {
   "cell_type": "code",
   "execution_count": 7,
   "id": "3f1ecba0",
   "metadata": {},
   "outputs": [
    {
     "data": {
      "text/plain": [
       "function"
      ]
     },
     "execution_count": 7,
     "metadata": {},
     "output_type": "execute_result"
    }
   ],
   "source": [
    "type(add_numbers)"
   ]
  },
  {
   "cell_type": "code",
   "execution_count": 15,
   "id": "17e8af59",
   "metadata": {},
   "outputs": [
    {
     "data": {
      "text/plain": [
       "tuple"
      ]
     },
     "execution_count": 15,
     "metadata": {},
     "output_type": "execute_result"
    }
   ],
   "source": [
    "x = (1,'a',2,'b')\n",
    "type(x)\n"
   ]
  },
  {
   "cell_type": "code",
   "execution_count": 16,
   "id": "e95c032b",
   "metadata": {},
   "outputs": [
    {
     "name": "stdout",
     "output_type": "stream",
     "text": [
      "[1, 'a', 2, 'b']\n"
     ]
    },
    {
     "data": {
      "text/plain": [
       "[1, 'a', 2, 'b', 2]"
      ]
     },
     "execution_count": 16,
     "metadata": {},
     "output_type": "execute_result"
    }
   ],
   "source": [
    "x = [1,'a',2,'b']\n",
    "print(x)\n",
    "x.append(2)\n",
    "x"
   ]
  },
  {
   "cell_type": "code",
   "execution_count": 17,
   "id": "819cbca2",
   "metadata": {},
   "outputs": [
    {
     "name": "stdout",
     "output_type": "stream",
     "text": [
      "1\n",
      "a\n",
      "2\n",
      "b\n",
      "2\n"
     ]
    }
   ],
   "source": [
    "for item in x:\n",
    "    print(item)"
   ]
  },
  {
   "cell_type": "code",
   "execution_count": 21,
   "id": "9ca17cd6",
   "metadata": {},
   "outputs": [
    {
     "name": "stdout",
     "output_type": "stream",
     "text": [
      "b\n",
      "o\n",
      "l\n",
      "a\n"
     ]
    }
   ],
   "source": [
    "y = \"bola\"\n",
    "for i in y:\n",
    "    print(i)"
   ]
  },
  {
   "cell_type": "code",
   "execution_count": 22,
   "id": "b744e67b",
   "metadata": {},
   "outputs": [
    {
     "name": "stdout",
     "output_type": "stream",
     "text": [
      "1\n",
      "a\n",
      "2\n",
      "b\n",
      "2\n"
     ]
    }
   ],
   "source": [
    "i = 0\n",
    "while(i != len(x)):\n",
    "    print(x[i])\n",
    "    i= i+1"
   ]
  },
  {
   "cell_type": "code",
   "execution_count": 23,
   "id": "77dec117",
   "metadata": {},
   "outputs": [
    {
     "data": {
      "text/plain": [
       "[1, 2, 2, 3]"
      ]
     },
     "execution_count": 23,
     "metadata": {},
     "output_type": "execute_result"
    }
   ],
   "source": [
    "[1,2]+[2,3]"
   ]
  },
  {
   "cell_type": "code",
   "execution_count": 24,
   "id": "e73f3517",
   "metadata": {},
   "outputs": [
    {
     "data": {
      "text/plain": [
       "[1, 1, 1]"
      ]
     },
     "execution_count": 24,
     "metadata": {},
     "output_type": "execute_result"
    }
   ],
   "source": [
    "[1]*3"
   ]
  },
  {
   "cell_type": "code",
   "execution_count": 26,
   "id": "d94c3eb9",
   "metadata": {},
   "outputs": [
    {
     "data": {
      "text/plain": [
       "True"
      ]
     },
     "execution_count": 26,
     "metadata": {},
     "output_type": "execute_result"
    }
   ],
   "source": [
    "1 in x"
   ]
  },
  {
   "cell_type": "code",
   "execution_count": 43,
   "id": "da38f09a",
   "metadata": {},
   "outputs": [
    {
     "name": "stdout",
     "output_type": "stream",
     "text": [
      "I\n",
      "st\n",
      "\n",
      "Isto é\n"
     ]
    }
   ],
   "source": [
    "x = \"Isto é uma string\"\n",
    "print(x[0])\n",
    "print(x[1:3])\n",
    "print(x[-6:0])\n",
    "print(x[:6])"
   ]
  },
  {
   "cell_type": "code",
   "execution_count": 36,
   "id": "9853aabe",
   "metadata": {},
   "outputs": [
    {
     "data": {
      "text/plain": [
       "'g'"
      ]
     },
     "execution_count": 36,
     "metadata": {},
     "output_type": "execute_result"
    }
   ],
   "source": [
    "x[-1]"
   ]
  },
  {
   "cell_type": "code",
   "execution_count": 46,
   "id": "f0d9787d",
   "metadata": {},
   "outputs": [
    {
     "name": "stdout",
     "output_type": "stream",
     "text": [
      "Vanessa Silva\n",
      "VanessaVanessaVanessa\n",
      "True\n"
     ]
    }
   ],
   "source": [
    "PrimNome=\"Vanessa\"\n",
    "segNome = \"Silva\"\n",
    "\n",
    "print(PrimNome + ' ' + segNome)\n",
    "print(PrimNome * 3)\n",
    "print('Va' in PrimNome)"
   ]
  },
  {
   "cell_type": "code",
   "execution_count": 49,
   "id": "99109e15",
   "metadata": {},
   "outputs": [
    {
     "name": "stdout",
     "output_type": "stream",
     "text": [
      "Silva\n"
     ]
    }
   ],
   "source": [
    "PNome = \"Vanessa Machado Silva\".split(' ')[0]\n",
    "SNome = \"Vanessa Machado Silva\".split(' ')[-1]\n",
    "print(SNome)"
   ]
  },
  {
   "cell_type": "code",
   "execution_count": 52,
   "id": "f9d695e9",
   "metadata": {},
   "outputs": [
    {
     "name": "stdout",
     "output_type": "stream",
     "text": [
      "Ana@gmail.com\n"
     ]
    }
   ],
   "source": [
    "x = {'Vanessa':'vanessas@gmail.com','Ana':'Ana@gmail.com'}\n",
    "print(x['Ana'])"
   ]
  },
  {
   "cell_type": "code",
   "execution_count": 55,
   "id": "37d78734",
   "metadata": {},
   "outputs": [
    {
     "name": "stdout",
     "output_type": "stream",
     "text": [
      "Vanessa\n",
      "Ana\n"
     ]
    }
   ],
   "source": [
    "for name in x:\n",
    "    print(name)"
   ]
  },
  {
   "cell_type": "code",
   "execution_count": 54,
   "id": "4929c887",
   "metadata": {},
   "outputs": [
    {
     "name": "stdout",
     "output_type": "stream",
     "text": [
      "vanessas@gmail.com\n",
      "Ana@gmail.com\n"
     ]
    }
   ],
   "source": [
    "for email in x.values():\n",
    "    print(email)"
   ]
  },
  {
   "cell_type": "code",
   "execution_count": 57,
   "id": "d12cefb2",
   "metadata": {},
   "outputs": [
    {
     "name": "stdout",
     "output_type": "stream",
     "text": [
      "Vanessa\n",
      "vanessas@gmail.com\n",
      "Ana\n",
      "Ana@gmail.com\n"
     ]
    }
   ],
   "source": [
    "for nome, email in x.items():\n",
    "    print(nome)\n",
    "    print(email)"
   ]
  },
  {
   "cell_type": "code",
   "execution_count": 58,
   "id": "c0a034dd",
   "metadata": {},
   "outputs": [
    {
     "name": "stdout",
     "output_type": "stream",
     "text": [
      "Vanessa\n",
      "Silva\n",
      "VanessaSilva@gmail.com\n"
     ]
    }
   ],
   "source": [
    "x = ('Vanessa','Silva','VanessaSilva@gmail.com')\n",
    "pnome, snome, email =x\n",
    "print(pnome)\n",
    "print(snome)\n",
    "print(email)"
   ]
  },
  {
   "cell_type": "code",
   "execution_count": 64,
   "id": "86759862",
   "metadata": {},
   "outputs": [
    {
     "name": "stdout",
     "output_type": "stream",
     "text": [
      "Dia 20, de maio de 2023\n"
     ]
    }
   ],
   "source": [
    "print('Dia {}, de {} de {}'.format(20,'maio',2023))"
   ]
  }
 ],
 "metadata": {
  "kernelspec": {
   "display_name": "Python 3 (ipykernel)",
   "language": "python",
   "name": "python3"
  },
  "language_info": {
   "codemirror_mode": {
    "name": "ipython",
    "version": 3
   },
   "file_extension": ".py",
   "mimetype": "text/x-python",
   "name": "python",
   "nbconvert_exporter": "python",
   "pygments_lexer": "ipython3",
   "version": "3.9.12"
  }
 },
 "nbformat": 4,
 "nbformat_minor": 5
}
