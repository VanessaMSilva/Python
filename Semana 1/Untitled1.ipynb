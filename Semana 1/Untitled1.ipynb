{
 "cells": [
  {
   "cell_type": "markdown",
   "id": "494d2b5e",
   "metadata": {},
   "source": [
    "# Entrada e saida de dados"
   ]
  },
  {
   "cell_type": "code",
   "execution_count": 78,
   "id": "f9da5866",
   "metadata": {},
   "outputs": [
    {
     "name": "stdout",
     "output_type": "stream",
     "text": [
      "dia: 20\n",
      "mes: maio\n",
      "ano: 2023\n",
      "x: 1\n"
     ]
    }
   ],
   "source": [
    "dia = int(input(\"dia: \"))\n",
    "mes = str(input('mes: '))\n",
    "ano = int(input('ano: '))\n",
    "x = bool(input('x: '))"
   ]
  },
  {
   "cell_type": "code",
   "execution_count": 79,
   "id": "e8047275",
   "metadata": {},
   "outputs": [
    {
     "data": {
      "text/plain": [
       "(20, 'maio', 2023, True)"
      ]
     },
     "execution_count": 79,
     "metadata": {},
     "output_type": "execute_result"
    }
   ],
   "source": [
    "dia,mes,ano,x"
   ]
  },
  {
   "cell_type": "code",
   "execution_count": 81,
   "id": "faec9cc6",
   "metadata": {},
   "outputs": [
    {
     "name": "stdout",
     "output_type": "stream",
     "text": [
      "Hoje é dia:  20\n",
      "20 de maio de 2023\n"
     ]
    }
   ],
   "source": [
    "print('Hoje é dia: ', dia)\n",
    "print('{} de {} de {}'.format(dia,mes,ano))"
   ]
  },
  {
   "cell_type": "markdown",
   "id": "1076d2da",
   "metadata": {},
   "source": [
    "# Estrutura condicional"
   ]
  },
  {
   "cell_type": "code",
   "execution_count": 84,
   "id": "a4fa4209",
   "metadata": {},
   "outputs": [
    {
     "name": "stdout",
     "output_type": "stream",
     "text": [
      "Digite um número: 5\n",
      "positivo\n"
     ]
    }
   ],
   "source": [
    "x = int(input('Digite um número: '))\n",
    "if (x > 0):\n",
    "    print('positivo')\n",
    "elif(x < 0):\n",
    "    print('negativo')\n",
    "else:\n",
    "    print('neutro')\n"
   ]
  },
  {
   "cell_type": "markdown",
   "id": "4949f38a",
   "metadata": {},
   "source": [
    "# Estrutura de repeticao\n"
   ]
  },
  {
   "cell_type": "code",
   "execution_count": 89,
   "id": "98fe9f9a",
   "metadata": {},
   "outputs": [
    {
     "name": "stdout",
     "output_type": "stream",
     "text": [
      "0\n",
      "2\n",
      "4\n",
      "6\n",
      "8\n"
     ]
    }
   ],
   "source": [
    "for i in range(0,10,2):\n",
    "    print(i)"
   ]
  },
  {
   "cell_type": "code",
   "execution_count": 94,
   "id": "77b7c18d",
   "metadata": {},
   "outputs": [
    {
     "name": "stdout",
     "output_type": "stream",
     "text": [
      "0\n",
      "1\n",
      "2\n",
      "3\n",
      "4\n",
      "5\n",
      "6\n",
      "7\n",
      "8\n"
     ]
    }
   ],
   "source": [
    "x = \"Minicurso\"\n",
    "for l in range(len(x)):\n",
    "    print(l)"
   ]
  },
  {
   "cell_type": "markdown",
   "id": "653ecf59",
   "metadata": {},
   "source": [
    "# PYTHON FUNCTIONS"
   ]
  },
  {
   "cell_type": "code",
   "execution_count": 5,
   "id": "920a2215",
   "metadata": {},
   "outputs": [
    {
     "data": {
      "text/plain": [
       "3"
      ]
     },
     "execution_count": 5,
     "metadata": {},
     "output_type": "execute_result"
    }
   ],
   "source": [
    "x = 1\n",
    "y = 2\n",
    "x+y"
   ]
  },
  {
   "cell_type": "code",
   "execution_count": 19,
   "id": "52d30d1c",
   "metadata": {},
   "outputs": [
    {
     "data": {
      "text/plain": [
       "3"
      ]
     },
     "execution_count": 19,
     "metadata": {},
     "output_type": "execute_result"
    }
   ],
   "source": [
    "def soma(x,y):\n",
    "    return x+y\n",
    "soma(1,2)"
   ]
  },
  {
   "cell_type": "code",
   "execution_count": 96,
   "id": "eadcccec",
   "metadata": {},
   "outputs": [
    {
     "data": {
      "text/plain": [
       "6"
      ]
     },
     "execution_count": 96,
     "metadata": {},
     "output_type": "execute_result"
    }
   ],
   "source": [
    "def soma(x,y,z=0):\n",
    "    return x+y+z\n",
    "soma(1,2,3)"
   ]
  },
  {
   "cell_type": "markdown",
   "id": "50139098",
   "metadata": {},
   "source": [
    "Se passar o parametro de soma fazer a soma e caso nao fazer uma subtração"
   ]
  },
  {
   "cell_type": "markdown",
   "id": "4e5f7adc",
   "metadata": {},
   "source": [
    "# Tipos e sequencias"
   ]
  },
  {
   "cell_type": "code",
   "execution_count": 1,
   "id": "c8c73f53",
   "metadata": {},
   "outputs": [
    {
     "data": {
      "text/plain": [
       "str"
      ]
     },
     "execution_count": 1,
     "metadata": {},
     "output_type": "execute_result"
    }
   ],
   "source": [
    "type('Isto é uma string')"
   ]
  },
  {
   "cell_type": "code",
   "execution_count": 2,
   "id": "6523f266",
   "metadata": {},
   "outputs": [
    {
     "data": {
      "text/plain": [
       "NoneType"
      ]
     },
     "execution_count": 2,
     "metadata": {},
     "output_type": "execute_result"
    }
   ],
   "source": [
    "type(None)"
   ]
  },
  {
   "cell_type": "code",
   "execution_count": 3,
   "id": "fa27b63f",
   "metadata": {},
   "outputs": [
    {
     "data": {
      "text/plain": [
       "float"
      ]
     },
     "execution_count": 3,
     "metadata": {},
     "output_type": "execute_result"
    }
   ],
   "source": [
    "type(1.0)"
   ]
  },
  {
   "cell_type": "code",
   "execution_count": 4,
   "id": "4c3b4d1c",
   "metadata": {},
   "outputs": [
    {
     "data": {
      "text/plain": [
       "int"
      ]
     },
     "execution_count": 4,
     "metadata": {},
     "output_type": "execute_result"
    }
   ],
   "source": [
    "type(1)"
   ]
  },
  {
   "cell_type": "code",
   "execution_count": 7,
   "id": "c9e1682b",
   "metadata": {},
   "outputs": [
    {
     "data": {
      "text/plain": [
       "function"
      ]
     },
     "execution_count": 7,
     "metadata": {},
     "output_type": "execute_result"
    }
   ],
   "source": [
    "type(add_numbers)"
   ]
  },
  {
   "cell_type": "code",
   "execution_count": 15,
   "id": "edc23a20",
   "metadata": {},
   "outputs": [
    {
     "data": {
      "text/plain": [
       "tuple"
      ]
     },
     "execution_count": 15,
     "metadata": {},
     "output_type": "execute_result"
    }
   ],
   "source": [
    "x = (1,'a',2,'b')\n",
    "type(x)\n"
   ]
  },
  {
   "cell_type": "code",
   "execution_count": 97,
   "id": "17e9cf28",
   "metadata": {},
   "outputs": [
    {
     "name": "stdout",
     "output_type": "stream",
     "text": [
      "[1, 'a', 2, 'b']\n"
     ]
    },
    {
     "data": {
      "text/plain": [
       "[1, 'a', 2, 'b', 2]"
      ]
     },
     "execution_count": 97,
     "metadata": {},
     "output_type": "execute_result"
    }
   ],
   "source": [
    "x = [1,'a',2,'b']\n",
    "print(x)\n",
    "x.append(2)\n",
    "x"
   ]
  },
  {
   "cell_type": "code",
   "execution_count": 17,
   "id": "6a8021ac",
   "metadata": {},
   "outputs": [
    {
     "name": "stdout",
     "output_type": "stream",
     "text": [
      "1\n",
      "a\n",
      "2\n",
      "b\n",
      "2\n"
     ]
    }
   ],
   "source": [
    "for item in x:\n",
    "    print(item)"
   ]
  },
  {
   "cell_type": "code",
   "execution_count": 98,
   "id": "9458a46a",
   "metadata": {},
   "outputs": [
    {
     "name": "stdout",
     "output_type": "stream",
     "text": [
      "1\n",
      "a\n",
      "2\n",
      "b\n",
      "2\n"
     ]
    }
   ],
   "source": [
    "i=0\n",
    "while(i < len(x)):\n",
    "    print(x[i])\n",
    "    i = i+1"
   ]
  },
  {
   "cell_type": "code",
   "execution_count": 23,
   "id": "29237544",
   "metadata": {},
   "outputs": [
    {
     "data": {
      "text/plain": [
       "[1, 2, 2, 3]"
      ]
     },
     "execution_count": 23,
     "metadata": {},
     "output_type": "execute_result"
    }
   ],
   "source": [
    "[1,2]+[2,3]"
   ]
  },
  {
   "cell_type": "code",
   "execution_count": 99,
   "id": "5db4086c",
   "metadata": {},
   "outputs": [
    {
     "data": {
      "text/plain": [
       "[1, 2, 1, 2, 1, 2]"
      ]
     },
     "execution_count": 99,
     "metadata": {},
     "output_type": "execute_result"
    }
   ],
   "source": [
    "[1,2]*3"
   ]
  },
  {
   "cell_type": "code",
   "execution_count": 26,
   "id": "60b94931",
   "metadata": {},
   "outputs": [
    {
     "data": {
      "text/plain": [
       "True"
      ]
     },
     "execution_count": 26,
     "metadata": {},
     "output_type": "execute_result"
    }
   ],
   "source": [
    "1 in x"
   ]
  },
  {
   "cell_type": "code",
   "execution_count": 43,
   "id": "98c465e8",
   "metadata": {},
   "outputs": [
    {
     "name": "stdout",
     "output_type": "stream",
     "text": [
      "I\n",
      "st\n",
      "\n",
      "Isto é\n"
     ]
    }
   ],
   "source": [
    "x = \"Isto é uma string\"\n",
    "print(x[0])\n",
    "print(x[1:3])\n",
    "print(x[-6:0])\n",
    "print(x[:6])"
   ]
  },
  {
   "cell_type": "code",
   "execution_count": 36,
   "id": "9874afd2",
   "metadata": {},
   "outputs": [
    {
     "data": {
      "text/plain": [
       "'g'"
      ]
     },
     "execution_count": 36,
     "metadata": {},
     "output_type": "execute_result"
    }
   ],
   "source": [
    "x[-1]"
   ]
  },
  {
   "cell_type": "code",
   "execution_count": 46,
   "id": "b58f5035",
   "metadata": {},
   "outputs": [
    {
     "name": "stdout",
     "output_type": "stream",
     "text": [
      "Vanessa Silva\n",
      "VanessaVanessaVanessa\n",
      "True\n"
     ]
    }
   ],
   "source": [
    "PrimNome=\"Vanessa\"\n",
    "segNome = \"Silva\"\n",
    "\n",
    "print(PrimNome + ' ' + segNome)\n",
    "print(PrimNome * 3)\n",
    "print('Va' in PrimNome)"
   ]
  },
  {
   "cell_type": "code",
   "execution_count": 49,
   "id": "bdb18b3c",
   "metadata": {},
   "outputs": [
    {
     "name": "stdout",
     "output_type": "stream",
     "text": [
      "Silva\n"
     ]
    }
   ],
   "source": [
    "PNome = \"Vanessa Machado Silva\".split(' ')[0]\n",
    "SNome = \"Vanessa Machado Silva\".split(' ')[-1]\n",
    "print(SNome)"
   ]
  },
  {
   "cell_type": "code",
   "execution_count": 52,
   "id": "29dbad9f",
   "metadata": {},
   "outputs": [
    {
     "name": "stdout",
     "output_type": "stream",
     "text": [
      "Ana@gmail.com\n"
     ]
    }
   ],
   "source": [
    "x = {'Vanessa':'vanessas@gmail.com','Ana':'Ana@gmail.com'}\n",
    "print(x['Ana'])"
   ]
  },
  {
   "cell_type": "code",
   "execution_count": 55,
   "id": "24aa75f5",
   "metadata": {},
   "outputs": [
    {
     "name": "stdout",
     "output_type": "stream",
     "text": [
      "Vanessa\n",
      "Ana\n"
     ]
    }
   ],
   "source": [
    "for name in x:\n",
    "    print(name)"
   ]
  },
  {
   "cell_type": "code",
   "execution_count": 54,
   "id": "e7df3494",
   "metadata": {},
   "outputs": [
    {
     "name": "stdout",
     "output_type": "stream",
     "text": [
      "vanessas@gmail.com\n",
      "Ana@gmail.com\n"
     ]
    }
   ],
   "source": [
    "for email in x.values():\n",
    "    print(email)"
   ]
  },
  {
   "cell_type": "code",
   "execution_count": 57,
   "id": "d12cefb2",
   "metadata": {},
   "outputs": [
    {
     "name": "stdout",
     "output_type": "stream",
     "text": [
      "Vanessa\n",
      "vanessas@gmail.com\n",
      "Ana\n",
      "Ana@gmail.com\n"
     ]
    }
   ],
   "source": [
    "for nome, email in x.items():\n",
    "    print(nome)\n",
    "    print(email)"
   ]
  },
  {
   "cell_type": "code",
   "execution_count": 58,
   "id": "c0a034dd",
   "metadata": {},
   "outputs": [
    {
     "name": "stdout",
     "output_type": "stream",
     "text": [
      "Vanessa\n",
      "Silva\n",
      "VanessaSilva@gmail.com\n"
     ]
    }
   ],
   "source": [
    "x = ('Vanessa','Silva','VanessaSilva@gmail.com')\n",
    "pnome, snome, email =x\n",
    "print(pnome)\n",
    "print(snome)\n",
    "print(email)"
   ]
  },
  {
   "cell_type": "code",
   "execution_count": 64,
   "id": "3b770cf8",
   "metadata": {},
   "outputs": [
    {
     "name": "stdout",
     "output_type": "stream",
     "text": [
      "Dia 20, de maio de 2023\n"
     ]
    }
   ],
   "source": [
    "print('Dia {}, de {} de {}'.format(20,'maio',2023))"
   ]
  }
 ],
 "metadata": {
  "kernelspec": {
   "display_name": "Python 3 (ipykernel)",
   "language": "python",
   "name": "python3"
  },
  "language_info": {
   "codemirror_mode": {
    "name": "ipython",
    "version": 3
   },
   "file_extension": ".py",
   "mimetype": "text/x-python",
   "name": "python",
   "nbconvert_exporter": "python",
   "pygments_lexer": "ipython3",
   "version": "3.9.12"
  }
 },
 "nbformat": 4,
 "nbformat_minor": 5
}
